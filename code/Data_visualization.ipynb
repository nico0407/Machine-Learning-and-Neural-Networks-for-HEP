{
 "cells": [
  {
   "cell_type": "code",
   "execution_count": 1,
   "id": "8695c8e8",
   "metadata": {},
   "outputs": [],
   "source": [
    "import pandas as pd\n",
    "import numpy as np\n",
    "import matplotlib.pyplot as plt\n",
    "import seaborn as sns\n",
    "sns.set_style(\"white\")"
   ]
  },
  {
   "cell_type": "code",
   "execution_count": null,
   "id": "e828c323",
   "metadata": {},
   "outputs": [],
   "source": [
    "from  sklearn.model_selection import train_test_split"
   ]
  },
  {
   "cell_type": "code",
   "execution_count": null,
   "id": "10414885",
   "metadata": {},
   "outputs": [],
   "source": [
    "path=r\"/Users/nicolo/Downloads/useful/Particle_Identification_from_Detector_Responses-main/pid-5M.csv\""
   ]
  },
  {
   "cell_type": "code",
   "execution_count": null,
   "id": "6e86f47a",
   "metadata": {},
   "outputs": [],
   "source": [
    "data=pd.read_csv(path)"
   ]
  },
  {
   "cell_type": "code",
   "execution_count": null,
   "id": "e27458c2",
   "metadata": {},
   "outputs": [],
   "source": [
    "data"
   ]
  },
  {
   "cell_type": "code",
   "execution_count": null,
   "id": "f285b277",
   "metadata": {},
   "outputs": [],
   "source": [
    "data.describe()"
   ]
  },
  {
   "cell_type": "code",
   "execution_count": null,
   "id": "5aaf14b4",
   "metadata": {},
   "outputs": [],
   "source": [
    "data.shape"
   ]
  },
  {
   "cell_type": "code",
   "execution_count": null,
   "id": "c134bc31",
   "metadata": {},
   "outputs": [],
   "source": [
    "np.unique(data.id,return_counts = True)"
   ]
  },
  {
   "cell_type": "code",
   "execution_count": null,
   "id": "f62c7b64",
   "metadata": {},
   "outputs": [],
   "source": [
    "data.isnull().sum()"
   ]
  },
  {
   "cell_type": "code",
   "execution_count": null,
   "id": "d9d1bff9",
   "metadata": {},
   "outputs": [],
   "source": [
    "data=data.head(50000)\n",
    "data"
   ]
  },
  {
   "cell_type": "code",
   "execution_count": null,
   "id": "6dda23f3",
   "metadata": {},
   "outputs": [],
   "source": [
    "df=data.drop(['id'],axis=1)"
   ]
  },
  {
   "cell_type": "code",
   "execution_count": null,
   "id": "22c5d76e",
   "metadata": {},
   "outputs": [],
   "source": [
    "df"
   ]
  },
  {
   "cell_type": "code",
   "execution_count": null,
   "id": "ce9ed51b",
   "metadata": {},
   "outputs": [],
   "source": [
    "i=1\n",
    "plt.figure(figsize=(20,20))\n",
    "for c in df.describe().columns[:]:\n",
    "    plt.subplot(4,3,i)\n",
    "    plt.title(f\"Histogram of {c}\",fontsize=16)\n",
    "    plt.yticks(fontsize=12)\n",
    "    plt.xticks(fontsize=12)\n",
    "    plt.hist(df[c],bins=20,color='orange',edgecolor='k')\n",
    "    i+=1\n",
    "plt.show()"
   ]
  },
  {
   "cell_type": "code",
   "execution_count": null,
   "id": "6321419a",
   "metadata": {},
   "outputs": [],
   "source": [
    "df.corr()"
   ]
  },
  {
   "cell_type": "code",
   "execution_count": null,
   "id": "3059c463",
   "metadata": {},
   "outputs": [],
   "source": [
    "plt.figure(figsize=(6,6))\n",
    "sns.heatmap(df.corr(),annot=True,cmap=\"BuPu\")"
   ]
  },
  {
   "cell_type": "code",
   "execution_count": null,
   "id": "cc2917e0",
   "metadata": {},
   "outputs": [],
   "source": [
    "labels_names = ['Positron',\"Pion\",\"Kaon\",\"Proton\"]\n",
    "id_names = np.unique(data['id'])"
   ]
  },
  {
   "cell_type": "code",
   "execution_count": null,
   "id": "9638320c",
   "metadata": {},
   "outputs": [],
   "source": [
    "keys = [-11,211,321,2212] # particle identifiers to assign Label name in the sample\n",
    "sample = data.copy()\n",
    "sample['Label'] = sample['id'].apply(lambda itype: labels_names[keys.index(itype)]) # Map the ids in data set to its label name\n",
    "sample = sample.drop(['id'],axis=1) # Remove the id column (not needed now we have the label names)\n",
    "frames = []\n",
    "# First 100 observations per each hadron\n",
    "for t in labels_names:\n",
    "    # Create Boolean Mask to select hadron\n",
    "    mask = sample['Label'] == t\n",
    "    frames.append(sample[mask].head(100))\n",
    "# Concatenate the frames\n",
    "sample = pd.concat(frames)\n",
    "sample.groupby('Label')['Label'].count() # Count how many instances there are of each particle (should be 100 each)"
   ]
  },
  {
   "cell_type": "code",
   "execution_count": null,
   "id": "8682bf39",
   "metadata": {},
   "outputs": [],
   "source": [
    "sample"
   ]
  },
  {
   "cell_type": "code",
   "execution_count": null,
   "id": "ce13b9ec",
   "metadata": {},
   "outputs": [],
   "source": [
    "sns.set(style=\"darkgrid\", color_codes=True)  #style must be one of white, dark, whitegrid, darkgrid, ticks\n",
    "#QUESTO COMANDO CAMBIA LO STILE DI TUTTI I PLOT, ANCHE QUELLI FATTI CON 'plt.plot'\n",
    "sns.pairplot(sample, hue = 'Label',plot_kws={'alpha':0.7}) # Creates correlation plot sorted by Label\n",
    "# Reduced alpha to improve plot visability"
   ]
  },
  {
   "cell_type": "code",
   "execution_count": null,
   "id": "75c9a69d",
   "metadata": {},
   "outputs": [],
   "source": [
    "data"
   ]
  },
  {
   "cell_type": "code",
   "execution_count": null,
   "id": "6d6e39aa",
   "metadata": {},
   "outputs": [],
   "source": [
    "df"
   ]
  },
  {
   "cell_type": "code",
   "execution_count": null,
   "id": "21e47eb4",
   "metadata": {},
   "outputs": [],
   "source": [
    "from plotnine import *\n",
    "#ok now it works. I have installed plotnine after have upgraded some pakages(numpy, tensorflow, bekeh,streamlit)\n",
    "#ggplot is a pakage of plotnine as the others, that's wy I have imported all of them with'*'\n",
    "density_plot = ggplot(data=data) \\\n",
    "             + geom_bin2d(aes(x='p', y='beta'), bins=1000, show_legend=False) \\\n",
    "             + scale_fill_continuous(\"YlGnBu_r\") \\\n",
    "             + labs(x='p (GeV/c)', y='β (radians)', color='black') \\\n",
    "             + coord_cartesian(ylim=(0.6, 1.05), xlim=(0.42, 4.5)) \\\n",
    "             + annotate(\"text\", x = 0.4, y = 1.03, label = \"e\", color='green', size = 18, fontweight=\"bold\") \\\n",
    "             + annotate(\"text\", x = 0.8, y = 0.95, label = \"π\", color='green', size = 18, fontweight=\"bold\") \\\n",
    "             + annotate(\"text\", x = 1.3, y = 0.89, label = \"K\", color='green', size = 18, fontweight=\"bold\") \\\n",
    "             + annotate(\"text\", x = 1.65, y = 0.82, label = \"p\", color='green', size = 18, fontweight=\"bold\") \n",
    "density_plot"
   ]
  },
  {
   "cell_type": "code",
   "execution_count": null,
   "id": "d138af8e",
   "metadata": {},
   "outputs": [],
   "source": [
    "y=data.id\n",
    "y.unique()"
   ]
  },
  {
   "cell_type": "code",
   "execution_count": null,
   "id": "b66e3f12",
   "metadata": {},
   "outputs": [],
   "source": [
    "for i in range(0,50000):\n",
    "    if y[i]==211:\n",
    "       y[i]=0\n",
    "    else:\n",
    "       y[i]=1\n",
    "\n"
   ]
  },
  {
   "cell_type": "code",
   "execution_count": null,
   "id": "1ccf8780",
   "metadata": {},
   "outputs": [],
   "source": [
    "y.unique()"
   ]
  },
  {
   "cell_type": "code",
   "execution_count": null,
   "id": "a1b46334",
   "metadata": {},
   "outputs": [],
   "source": [
    "y"
   ]
  },
  {
   "cell_type": "code",
   "execution_count": null,
   "id": "d5532cda",
   "metadata": {},
   "outputs": [],
   "source": [
    "np.unique(y,return_counts = True)"
   ]
  },
  {
   "cell_type": "code",
   "execution_count": null,
   "id": "dc68c196",
   "metadata": {},
   "outputs": [],
   "source": [
    "dt=pd.concat((df,y),axis=1)"
   ]
  },
  {
   "cell_type": "code",
   "execution_count": null,
   "id": "15779a65",
   "metadata": {},
   "outputs": [],
   "source": [
    "dt"
   ]
  },
  {
   "cell_type": "code",
   "execution_count": null,
   "id": "ce9e34e2",
   "metadata": {},
   "outputs": [],
   "source": [
    "df_0 = dt[dt.id == abs(0)]"
   ]
  },
  {
   "cell_type": "code",
   "execution_count": null,
   "id": "0e65ad43",
   "metadata": {},
   "outputs": [],
   "source": [
    "df_0"
   ]
  },
  {
   "cell_type": "code",
   "execution_count": null,
   "id": "921a8e0c",
   "metadata": {},
   "outputs": [],
   "source": [
    "df_1=dt[dt.id==abs(1)]\n",
    "df_1"
   ]
  },
  {
   "cell_type": "code",
   "execution_count": null,
   "id": "bfe456fc",
   "metadata": {},
   "outputs": [],
   "source": [
    "plt.subplots(figsize=(20,10))\n",
    "plt.scatter(df_0.p,df_0.beta,color='y',s=8,label='Pion')\n",
    "plt.scatter(df_1.p,df_1.beta,color='g',s=8,label='other protons')\n",
    "plt.xlabel('Particle momentum/p')\n",
    "plt.ylabel('Relativistic velocity /Beta')\n",
    "plt.legend(loc=\"lower right\", fontsize=30)\n",
    "\n"
   ]
  },
  {
   "cell_type": "code",
   "execution_count": null,
   "id": "b6664e81",
   "metadata": {},
   "outputs": [],
   "source": [
    "dt"
   ]
  },
  {
   "cell_type": "code",
   "execution_count": null,
   "id": "9b743766",
   "metadata": {},
   "outputs": [],
   "source": [
    "y=dt.id\n",
    "x=dt.drop('id',axis=1)"
   ]
  },
  {
   "cell_type": "code",
   "execution_count": null,
   "id": "ffd29306",
   "metadata": {},
   "outputs": [],
   "source": [
    "x"
   ]
  },
  {
   "cell_type": "code",
   "execution_count": null,
   "id": "9154ef73",
   "metadata": {},
   "outputs": [],
   "source": []
  },
  {
   "cell_type": "code",
   "execution_count": null,
   "id": "19a15571",
   "metadata": {},
   "outputs": [],
   "source": []
  }
 ],
 "metadata": {
  "kernelspec": {
   "display_name": "Python 3 (ipykernel)",
   "language": "python",
   "name": "python3"
  },
  "language_info": {
   "codemirror_mode": {
    "name": "ipython",
    "version": 3
   },
   "file_extension": ".py",
   "mimetype": "text/x-python",
   "name": "python",
   "nbconvert_exporter": "python",
   "pygments_lexer": "ipython3",
   "version": "3.8.12"
  }
 },
 "nbformat": 4,
 "nbformat_minor": 5
}
